{
 "cells": [
  {
   "cell_type": "markdown",
   "metadata": {},
   "source": [
    "<h3>In order to convert images to CSV, we need the following libraries:\n",
    "<ul>\n",
    "<li><a href=\"https://python-pillow.org/\" target=\"_blank\">Pillow</a> - for manipulating images in Python</li>\n",
    "<li><a href=\"https://docs.python.org/3/library/os.html\" target=\"_blank\">os - Miscellaneous operating system interfaces</a> - for accessing system folders for batch processing</li>\n",
    "</ul>\n",
    "</h3>"
   ]
  },
  {
   "cell_type": "markdown",
   "metadata": {},
   "source": [
    "## Load the directory where the image files are stored "
   ]
  },
  {
   "cell_type": "code",
   "execution_count": 3,
   "metadata": {},
   "outputs": [
    {
     "data": {
      "text/plain": [
       "200"
      ]
     },
     "execution_count": 3,
     "metadata": {},
     "output_type": "execute_result"
    }
   ],
   "source": [
    "from PIL import Image\n",
    "import os, os.path\n",
    "\n",
    "files = os.listdir('MNIST Handwritten Digits')\n",
    "file_count = len(files)\n",
    "file_count"
   ]
  },
  {
   "cell_type": "markdown",
   "metadata": {},
   "source": [
    "## Create a file where the pixels will be stored as features and iterate through the list containing the images"
   ]
  },
  {
   "cell_type": "code",
   "execution_count": null,
   "metadata": {
    "collapsed": true
   },
   "outputs": [],
   "source": [
    "file = open('char.csv','w')\n",
    "\n",
    "for i in range(0,file_count):\n",
    "    im = Image.open('MNIST Handwritten Digits\\\\' + files[i])\n",
    "    pix = im.load()\n",
    "    width, height = im.size\n",
    "    for x in range(width):\n",
    "        for y in range(height):\n",
    "            if(pix[x,y]<128):\n",
    "                file.write('0')\n",
    "            else:\n",
    "                file.write('1')\n",
    "            file.write(',')\n",
    "    file.write('\\n')\n",
    "    \n",
    "file.close()"
   ]
  }
 ],
 "metadata": {
  "kernelspec": {
   "display_name": "Python 3",
   "language": "python",
   "name": "python3"
  },
  "language_info": {
   "codemirror_mode": {
    "name": "ipython",
    "version": 3
   },
   "file_extension": ".py",
   "mimetype": "text/x-python",
   "name": "python",
   "nbconvert_exporter": "python",
   "pygments_lexer": "ipython3",
   "version": "3.6.1"
  }
 },
 "nbformat": 4,
 "nbformat_minor": 2
}
