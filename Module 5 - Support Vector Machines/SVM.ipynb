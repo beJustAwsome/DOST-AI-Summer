{
 "cells": [
  {
   "cell_type": "markdown",
   "metadata": {},
   "source": [
    "# SVM on SCIKIT LEARN"
   ]
  },
  {
   "cell_type": "markdown",
   "metadata": {},
   "source": [
    "<i>Dr. Kardi Teknomo, ADMU and Kristofer delas Pe&ntilde;as, UPD<i/>"
   ]
  },
  {
   "cell_type": "markdown",
   "metadata": {},
   "source": [
    "Using SVM in python is pretty straight-forward. Just import a library and you're good to go!"
   ]
  },
  {
   "cell_type": "markdown",
   "metadata": {},
   "source": [
    "### Importing sklearn"
   ]
  },
  {
   "cell_type": "markdown",
   "metadata": {},
   "source": [
    "sklearn is a library that contains implementation of several machine learning algorithms including SVM. "
   ]
  },
  {
   "cell_type": "code",
   "execution_count": 1,
   "metadata": {
    "collapsed": true
   },
   "outputs": [],
   "source": [
    "from sklearn import svm"
   ]
  },
  {
   "cell_type": "markdown",
   "metadata": {},
   "source": [
    "### Importing other libraries"
   ]
  },
  {
   "cell_type": "markdown",
   "metadata": {},
   "source": [
    "You might also want to import other libraries like numpy!"
   ]
  },
  {
   "cell_type": "code",
   "execution_count": 2,
   "metadata": {
    "collapsed": true
   },
   "outputs": [],
   "source": [
    "import numpy as np\n",
    "from matplotlib import pyplot"
   ]
  },
  {
   "cell_type": "markdown",
   "metadata": {},
   "source": [
    "### Creating an SVM model"
   ]
  },
  {
   "cell_type": "markdown",
   "metadata": {},
   "source": [
    "sklearn provides multiple SVM implementations"
   ]
  },
  {
   "cell_type": "raw",
   "metadata": {},
   "source": [
    "SVC           C-Support Vector Classification\n",
    "LinearSVC     Linear Support Vector Classification\n",
    "NuSVC         Nu-Support Vector Classification\n",
    "SVR           Epsilon-Support Vector Regression\n",
    "LinearSVR     Linear Support Vector Regression\n",
    "NuSVR \t      Nu Support Vector Regression\n",
    "OneClassSVM   Unsupervised Outlier Detection"
   ]
  },
  {
   "cell_type": "code",
   "execution_count": 3,
   "metadata": {
    "collapsed": true
   },
   "outputs": [],
   "source": [
    "model = svm.SVC(kernel=\"linear\")"
   ]
  },
  {
   "cell_type": "markdown",
   "metadata": {},
   "source": [
    "### SVM Parameters"
   ]
  },
  {
   "cell_type": "markdown",
   "metadata": {},
   "source": [
    "Tailor the parameters depending on the classification task."
   ]
  },
  {
   "cell_type": "markdown",
   "metadata": {},
   "source": [
    "<table class=\"docutils field-list\" frame=\"void\" rules=\"none\">\n",
    "<colgroup><col class=\"field-name\">\n",
    "<col class=\"field-body\">\n",
    "</colgroup><tbody valign=\"top\">\n",
    "<tr class=\"field-odd field\"><th class=\"field-name\">Parameters:</th><td class=\"field-body\"><p class=\"first\"><strong>C</strong> : float, optional (default=1.0)</p>\n",
    "<blockquote>\n",
    "<div><p>Penalty parameter C of the error term.</p>\n",
    "</div></blockquote>\n",
    "<p><strong>kernel</strong> : string, optional (default=’rbf’)</p>\n",
    "<blockquote>\n",
    "<div><p>Specifies the kernel type to be used in the algorithm.\n",
    "It must be one of ‘linear’, ‘poly’, ‘rbf’, ‘sigmoid’, ‘precomputed’ or\n",
    "a callable.\n",
    "If none is given, ‘rbf’ will be used. If a callable is given it is\n",
    "used to pre-compute the kernel matrix from data matrices; that matrix\n",
    "should be an array of shape <code class=\"docutils literal\"><span class=\"pre\">(n_samples,</span> <span class=\"pre\">n_samples)</span></code>.</p>\n",
    "</div></blockquote>\n",
    "<p><strong>degree</strong> : int, optional (default=3)</p>\n",
    "<blockquote>\n",
    "<div><p>Degree of the polynomial kernel function (‘poly’).\n",
    "Ignored by all other kernels.</p>\n",
    "</div></blockquote>\n",
    "<p><strong>gamma</strong> : float, optional (default=’auto’)</p>\n",
    "<blockquote>\n",
    "<div><p>Kernel coefficient for ‘rbf’, ‘poly’ and ‘sigmoid’.\n",
    "If gamma is ‘auto’ then 1/n_features will be used instead.</p>\n",
    "</div></blockquote>\n",
    "<p><strong>coef0</strong> : float, optional (default=0.0)</p>\n",
    "<blockquote>\n",
    "<div><p>Independent term in kernel function.\n",
    "It is only significant in ‘poly’ and ‘sigmoid’.</p>\n",
    "</div></blockquote>\n",
    "<p><strong>probability</strong> : boolean, optional (default=False)</p>\n",
    "<blockquote>\n",
    "<div><p>Whether to enable probability estimates. This must be enabled prior\n",
    "to calling <cite>fit</cite>, and will slow down that method.</p>\n",
    "</div></blockquote>\n",
    "<p><strong>shrinking</strong> : boolean, optional (default=True)</p>\n",
    "<blockquote>\n",
    "<div><p>Whether to use the shrinking heuristic.</p>\n",
    "</div></blockquote>\n",
    "<p><strong>tol</strong> : float, optional (default=1e-3)</p>\n",
    "<blockquote>\n",
    "<div><p>Tolerance for stopping criterion.</p>\n",
    "</div></blockquote>\n",
    "<p><strong>cache_size</strong> : float, optional</p>\n",
    "<blockquote>\n",
    "<div><p>Specify the size of the kernel cache (in MB).</p>\n",
    "</div></blockquote>\n",
    "<p><strong>class_weight</strong> : {dict, ‘balanced’}, optional</p>\n",
    "<blockquote>\n",
    "<div><p>Set the parameter C of class i to class_weight[i]*C for\n",
    "SVC. If not given, all classes are supposed to have\n",
    "weight one.\n",
    "The “balanced” mode uses the values of y to automatically adjust\n",
    "weights inversely proportional to class frequencies in the input data\n",
    "as <code class=\"docutils literal\"><span class=\"pre\">n_samples</span> <span class=\"pre\">/</span> <span class=\"pre\">(n_classes</span> <span class=\"pre\">*</span> <span class=\"pre\">np.bincount(y))</span></code></p>\n",
    "</div></blockquote>\n",
    "<p><strong>verbose</strong> : bool, default: False</p>\n",
    "<blockquote>\n",
    "<div><p>Enable verbose output. Note that this setting takes advantage of a\n",
    "per-process runtime setting in libsvm that, if enabled, may not work\n",
    "properly in a multithreaded context.</p>\n",
    "</div></blockquote>\n",
    "<p><strong>max_iter</strong> : int, optional (default=-1)</p>\n",
    "<blockquote>\n",
    "<div><p>Hard limit on iterations within solver, or -1 for no limit.</p>\n",
    "</div></blockquote>\n",
    "<p><strong>decision_function_shape</strong> : ‘ovo’, ‘ovr’ or None, default=None</p>\n",
    "<blockquote>\n",
    "<div><p>Whether to return a one-vs-rest (‘ovr’) decision function of shape\n",
    "(n_samples, n_classes) as all other classifiers, or the original\n",
    "one-vs-one (‘ovo’) decision function of libsvm which has shape\n",
    "(n_samples, n_classes * (n_classes - 1) / 2).\n",
    "The default of None will currently behave as ‘ovo’ for backward\n",
    "compatibility and raise a deprecation warning, but will change ‘ovr’\n",
    "in 0.19.</p>\n",
    "<div class=\"versionadded\">\n",
    "<p><span class=\"versionmodified\">New in version 0.17: </span><em>decision_function_shape=’ovr’</em> is recommended.</p>\n",
    "</div>\n",
    "<div class=\"versionchanged\">\n",
    "<p><span class=\"versionmodified\">Changed in version 0.17: </span>Deprecated <em>decision_function_shape=’ovo’ and None</em>.</p>\n",
    "</div>\n",
    "</div></blockquote>\n",
    "<p><strong>random_state</strong> : int seed, RandomState instance, or None (default)</p>\n",
    "<blockquote>\n",
    "<div><p>The seed of the pseudo random number generator to use when\n",
    "shuffling the data for probability estimation.</p>\n",
    "</div></blockquote>\n",
    "</td>\n",
    "</tr>\n",
    "</tbody>\n",
    "</table>"
   ]
  },
  {
   "cell_type": "markdown",
   "metadata": {},
   "source": [
    "### Data Format"
   ]
  },
  {
   "cell_type": "markdown",
   "metadata": {},
   "source": [
    "The data that sklearn accepts are matrices of numerical values. For SVM, a problem with <i>m</i> instances and <i>n</i> attributes is represented by an <i>m x n</i> matrix, and must be accompanied by the instance label vector of size <i>m</i>."
   ]
  },
  {
   "cell_type": "code",
   "execution_count": 1,
   "metadata": {},
   "outputs": [
    {
     "data": {
      "image/png": "[encoded data removed]",
      "text/plain": [
       "<matplotlib.figure.Figure at 0x7f9df24ff750>"
      ]
     },
     "metadata": {},
     "output_type": "display_data"
    }
   ],
   "source": [
    "%matplotlib inline\n",
    "from matplotlib import pyplot\n",
    "import numpy as np\n",
    "\n",
    "X = np.array([[-1, -1], [-2, -1], [1, 1], [2, 1]]) # data\n",
    "y = np.array([1, 1, 2, 2]) # label\n",
    "\n",
    "for i in range(len(X)):\n",
    "    pyplot.scatter(X[i,0], X[i,1], c='r' if X[i,1] == 1 else 'g', marker='*' if X[i,1] == 1 else 'o', s=80)\n",
    "   "
   ]
  },
  {
   "cell_type": "markdown",
   "metadata": {},
   "source": [
    "### Model Fitting"
   ]
  },
  {
   "cell_type": "markdown",
   "metadata": {},
   "source": [
    "After loading and preparing the data and creating an SVM object, the model is now ready to learn."
   ]
  },
  {
   "cell_type": "code",
   "execution_count": 5,
   "metadata": {},
   "outputs": [
    {
     "data": {
      "text/plain": [
       "SVC(C=1.0, cache_size=200, class_weight=None, coef0=0.0,\n",
       "  decision_function_shape=None, degree=3, gamma='auto', kernel='linear',\n",
       "  max_iter=-1, probability=False, random_state=None, shrinking=True,\n",
       "  tol=0.001, verbose=False)"
      ]
     },
     "execution_count": 5,
     "metadata": {},
     "output_type": "execute_result"
    }
   ],
   "source": [
    "# X is the dataset\n",
    "# y is the label vector\n",
    "\n",
    "model.fit(X, y)"
   ]
  },
  {
   "cell_type": "code",
   "execution_count": 11,
   "metadata": {},
   "outputs": [
    {
     "data": {
      "image/png": "[encoded data removed]",
      "text/plain": [
       "<matplotlib.figure.Figure at 0x7f9dbc5dec10>"
      ]
     },
     "metadata": {},
     "output_type": "display_data"
    }
   ],
   "source": [
    "%matplotlib inline\n",
    "from matplotlib import pyplot as plt\n",
    "from sklearn import svm\n",
    "import numpy as np\n",
    "\n",
    "X = np.array([[-1, -1], [-2, -1], [1, 1], [2, 1]]) # data\n",
    "y = np.array([1, 1, 2, 2]) # label\n",
    "\n",
    "model = svm.SVC(kernel=\"linear\")\n",
    "model.fit(X, y)\n",
    "\n",
    "for i in range(len(X)):\n",
    "    plt.scatter(X[i,0], X[i,1], c='r' if y[i] == 1 else 'g', marker='*' if y[i] == 1 else 'o')\n",
    "    \n",
    "    # get the separating hyperplane\n",
    "    w = model.coef_[0]\n",
    "    a = -w[0] / w[1]\n",
    "    xx = np.linspace(-5, 5)\n",
    "    yy = a * xx - (model.intercept_[0]) / w[1]\n",
    "\n",
    "    # plot the parallels to the separating hyperplane that pass through the\n",
    "    # support vectors\n",
    "    margin = 1 / np.sqrt(np.sum(model.coef_ ** 2))\n",
    "    yy_down = yy + a * margin\n",
    "    yy_up = yy - a * margin\n",
    "\n",
    "    # plot the line, the points, and the nearest vectors to the plane\n",
    "    plt.plot(xx, yy, 'k-')\n",
    "    plt.plot(xx, yy_down, 'k--')\n",
    "    plt.plot(xx, yy_up, 'k--')\n",
    "\n",
    "    plt.scatter(model.support_vectors_[:, 0], model.support_vectors_[:, 1], s=80,\n",
    "                facecolors='none', zorder=10)"
   ]
  },
  {
   "cell_type": "markdown",
   "metadata": {},
   "source": [
    "For linear model, we can reveal the discriminant line that separate the classes using coef_ and intercept_ attributes."
   ]
  },
  {
   "cell_type": "code",
   "execution_count": 12,
   "metadata": {},
   "outputs": [
    {
     "name": "stdout",
     "output_type": "stream",
     "text": [
      "x2 = -1*x1 + 0\n"
     ]
    }
   ],
   "source": [
    "weight = model.coef_\n",
    "intercept = model.intercept_\n",
    "a = -weight[0,0] / weight[0,1]\n",
    "print('x2 = %d*x1 + %d' % (a, -intercept[0]/weight[0,1]))"
   ]
  },
  {
   "cell_type": "markdown",
   "metadata": {},
   "source": [
    "The example below is basically the same as above, except more points are included in the dataset. Do note that the same hyperplane was computed despite the difference in the number of instances and the imbalance of the number of positive and negative instances."
   ]
  },
  {
   "cell_type": "code",
   "execution_count": 13,
   "metadata": {},
   "outputs": [
    {
     "data": {
      "image/png": "[encoded data removed]",
      "text/plain": [
       "<matplotlib.figure.Figure at 0x7f9dbc5dee10>"
      ]
     },
     "metadata": {},
     "output_type": "display_data"
    }
   ],
   "source": [
    "X = np.array([[-4,-3],[-4,2],[2,-4],[-3.5,-1],[-5,-2],[-1, -1], [-2, -1], [1, 1], [2, 1],[3,4],[5,3]]) # data\n",
    "y = np.array([1, 1, 1, 1, 1, 1, 1, 2, 2, 2, 2]) # label\n",
    "\n",
    "model = svm.SVC(kernel=\"linear\")\n",
    "model.fit(X, y)\n",
    "\n",
    "for i in range(len(X)):\n",
    "    plt.scatter(X[i,0], X[i,1], c='r' if y[i] == 1 else 'g', marker='*' if y[i] == 1 else 'o')\n",
    "    \n",
    "    # get the separating hyperplane\n",
    "    w = model.coef_[0]\n",
    "    a = -w[0] / w[1]\n",
    "    xx = np.linspace(-5, 5)\n",
    "    yy = a * xx - (model.intercept_[0]) / w[1]\n",
    "\n",
    "    # plot the parallels to the separating hyperplane that pass through the\n",
    "    # support vectors\n",
    "    margin = 1 / np.sqrt(np.sum(model.coef_ ** 2))\n",
    "    yy_down = yy + a * margin\n",
    "    yy_up = yy - a * margin\n",
    "\n",
    "    # plot the line, the points, and the nearest vectors to the plane\n",
    "    plt.plot(xx, yy, 'k-')\n",
    "    plt.plot(xx, yy_down, 'k--')\n",
    "    plt.plot(xx, yy_up, 'k--')\n",
    "\n",
    "    plt.scatter(model.support_vectors_[:, 0], model.support_vectors_[:, 1], s=80,\n",
    "                facecolors='none', zorder=10)"
   ]
  },
  {
   "cell_type": "markdown",
   "metadata": {},
   "source": [
    "Just like that! Magic!"
   ]
  },
  {
   "cell_type": "markdown",
   "metadata": {},
   "source": [
    "### Testing the model"
   ]
  },
  {
   "cell_type": "markdown",
   "metadata": {},
   "source": [
    "To test the trained model, load the test dataset and call one of the two functions below."
   ]
  },
  {
   "cell_type": "markdown",
   "metadata": {
    "collapsed": true
   },
   "source": [
    "<i>model.predict(testSet)</i>"
   ]
  },
  {
   "cell_type": "markdown",
   "metadata": {
    "collapsed": true
   },
   "source": [
    "<i>model.score(testSet)</i>"
   ]
  },
  {
   "cell_type": "markdown",
   "metadata": {},
   "source": [
    "We can also use the metrics provided in <i>sklearn.metrics</i> such as <i>confusion_matrix</i> and <i>classification_report</i>."
   ]
  },
  {
   "cell_type": "markdown",
   "metadata": {},
   "source": [
    "### Putting it all together"
   ]
  },
  {
   "cell_type": "code",
   "execution_count": 8,
   "metadata": {},
   "outputs": [
    {
     "data": {
      "text/plain": [
       "array([1])"
      ]
     },
     "execution_count": 8,
     "metadata": {},
     "output_type": "execute_result"
    }
   ],
   "source": [
    "# import libraries\n",
    "from sklearn import svm\n",
    "import numpy as np\n",
    "from matplotlib import pyplot\n",
    "\n",
    "X = np.array([[-1, -1], [-2, -1], [1, 1], [2, 1]]) # data\n",
    "y = np.array([1, 1, 2, 2]) # label\n",
    "\n",
    "model = svm.SVC() # using default parameters\n",
    "\n",
    "model.fit(X, y) # train\n",
    "\n",
    "model.predict([[0, 0]])"
   ]
  },
  {
   "cell_type": "markdown",
   "metadata": {},
   "source": [
    "### A univariate example\n",
    "\n",
    "Smells Good!\n",
    "\n",
    "Given the response of an odometer, identify the perfume.\n",
    "\n",
    "<table>\n",
    "    <tr>\n",
    "        <th>Odometer Reading\n",
    "        </th>\n",
    "        <th>Perfume\n",
    "        </th>\n",
    "    </tr>\n",
    "    <tr>\n",
    "        <td>82,394\n",
    "        </td>\n",
    "        <td>Tea Tree Oil\n",
    "        </td>\n",
    "    </tr>\n",
    "    <tr>\n",
    "        <td>78,999\n",
    "        </td>\n",
    "        <td>Raspberry\n",
    "        </td>\n",
    "    </tr>\n",
    "    <tr>\n",
    "        <td>82,382\n",
    "        </td>\n",
    "        <td>Tea Tree Oil\n",
    "        </td>\n",
    "    </tr>\n",
    "    <tr>\n",
    "        <td>82,416\n",
    "        </td>\n",
    "        <td>Tea Tree Oil\n",
    "        </td>\n",
    "    </tr>\n",
    "    <tr>\n",
    "        <td>78,997\n",
    "        </td>\n",
    "        <td>Raspberry\n",
    "        </td>\n",
    "    </tr>\n",
    "    <tr>\n",
    "        <td>82,382\n",
    "        </td>\n",
    "        <td>Tea Tree Oil\n",
    "        </td>\n",
    "    </tr>\n",
    "    <tr>\n",
    "        <td>78,990\n",
    "        </td>\n",
    "        <td>Raspberry\n",
    "        </td>\n",
    "    </tr>\n",
    "    <tr>\n",
    "        <td>82,361\n",
    "        </td>\n",
    "        <td>Tea Tree Oil\n",
    "        </td>\n",
    "    </tr>\n",
    "    <tr>\n",
    "        <td>78,977\n",
    "        </td>\n",
    "        <td>Raspberry\n",
    "        </td>\n",
    "    </tr>\n",
    "    <tr>\n",
    "        <td>82,383\n",
    "        </td>\n",
    "        <td>Tea Tree Oil\n",
    "        </td>\n",
    "    </tr>\n",
    "    <tr>\n",
    "        <td>79,001\n",
    "        </td>\n",
    "        <td>Raspberry\n",
    "        </td>\n",
    "    </tr>\n",
    "    <tr>\n",
    "        <td>82,405\n",
    "        </td>\n",
    "        <td>Tea Tree Oil\n",
    "        </td>\n",
    "    </tr>\n",
    "    <tr>\n",
    "        <td>79,010\n",
    "        </td>\n",
    "        <td>Raspberry\n",
    "        </td>\n",
    "    </tr>\n",
    "</table>"
   ]
  },
  {
   "cell_type": "code",
   "execution_count": 9,
   "metadata": {},
   "outputs": [
    {
     "data": {
      "text/plain": [
       "array(['Tea Tree Oil'], \n",
       "      dtype='|S12')"
      ]
     },
     "execution_count": 9,
     "metadata": {},
     "output_type": "execute_result"
    }
   ],
   "source": [
    "from sklearn import svm\n",
    "import numpy as np\n",
    "\n",
    "data = np.array([[82394],\n",
    "[78999],\n",
    "[82382],\n",
    "[82416],\n",
    "[78997],\n",
    "[82382],\n",
    "[78990],\n",
    "[82361],\n",
    "[78977],\n",
    "[82383],\n",
    "[79001],\n",
    "[82405],\n",
    "[79010]])\n",
    "\n",
    "label = np.array([\"Tea Tree Oil\",\n",
    "\"Raspberry\",\n",
    "\"Tea Tree Oil\",\n",
    "\"Tea Tree Oil\",\n",
    "\"Raspberry\",\n",
    "\"Tea Tree Oil\",\n",
    "\"Raspberry\",\n",
    "\"Tea Tree Oil\",\n",
    "\"Raspberry\",\n",
    "\"Tea Tree Oil\",\n",
    "\"Raspberry\",\n",
    "\"Tea Tree Oil\",\n",
    "\"Raspberry\"])\n",
    "\n",
    "model = svm.SVC(kernel=\"linear\", C=1.0)\n",
    "\n",
    "model.fit(data, label)\n",
    "\n",
    "model.predict([[81000]])\n"
   ]
  },
  {
   "cell_type": "markdown",
   "metadata": {},
   "source": [
    "### Non-linearly Separable Data\n",
    "\n",
    "Consider the example below."
   ]
  },
  {
   "cell_type": "code",
   "execution_count": 17,
   "metadata": {},
   "outputs": [
    {
     "data": {
      "image/png": "[encoded data removed]",
      "text/plain": [
       "<matplotlib.figure.Figure at 0x7f469cb19b10>"
      ]
     },
     "metadata": {},
     "output_type": "display_data"
    }
   ],
   "source": [
    "%matplotlib inline\n",
    "from matplotlib import pyplot as plt\n",
    "from sklearn import svm\n",
    "import numpy as np\n",
    "\n",
    "X_pos = np.random.normal(loc=0.0, scale=5, size=(100,2))\n",
    "X_neg = np.random.normal(loc=0.0, scale=1.0, size=(100,2))\n",
    "\n",
    "X = np.concatenate((X_pos, X_neg))\n",
    "y = np.vstack((np.ones((100, 1)), np.zeros((100, 1))))\n",
    "\n",
    "\n",
    "for i in range(len(X)):\n",
    "    plt.scatter(X[i,0], X[i,1], c='r' if y[i] == 1 else 'g', marker='+' if y[i] == 1 else 'o')\n",
    "    "
   ]
  },
  {
   "cell_type": "code",
   "execution_count": 18,
   "metadata": {},
   "outputs": [
    {
     "data": {
      "image/png": "[encoded data removed]",
      "text/plain": [
       "<matplotlib.figure.Figure at 0x7f469da1e050>"
      ]
     },
     "metadata": {},
     "output_type": "display_data"
    }
   ],
   "source": [
    "model = svm.SVC(kernel=\"linear\")\n",
    "model.fit(X, y.ravel())\n",
    "\n",
    "for i in range(len(X)):\n",
    "    plt.scatter(X[i,0], X[i,1], c='r' if y[i] == 1 else 'g', marker='+' if y[i] == 1 else 'o')\n",
    "    \n",
    "    # get the separating hyperplane\n",
    "    w = model.coef_[0]\n",
    "    a = -w[0] / w[1]\n",
    "    xx = np.linspace(-10, 10)\n",
    "    yy = a * xx - (model.intercept_[0]) / w[1]\n",
    "\n",
    "    # plot the parallels to the separating hyperplane that pass through the\n",
    "    # support vectors\n",
    "    margin = 1 / np.sqrt(np.sum(model.coef_ ** 2))\n",
    "    yy_down = yy + a * margin\n",
    "    yy_up = yy - a * margin\n",
    "\n",
    "    # plot the line, the points, and the nearest vectors to the plane\n",
    "    plt.plot(xx, yy, 'k-')\n",
    "    plt.plot(xx, yy_down, 'k--')\n",
    "    plt.plot(xx, yy_up, 'k--')\n",
    "\n",
    "    plt.scatter(X[:, 0], X[:, 1], s=80,\n",
    "                facecolors='none', zorder=10)"
   ]
  },
  {
   "cell_type": "markdown",
   "metadata": {},
   "source": [
    "Unlike the previous example, the SVM model cannot effectively separate the two classes. This is where kernels come in."
   ]
  },
  {
   "cell_type": "markdown",
   "metadata": {},
   "source": [
    "sklearn provides a number of predefined kernels\n",
    "\n",
    "<ol>\n",
    "    <li>Linear</li>\n",
    "    <li>Polynomial</li>\n",
    "    <li>Radial Basis Function</li>\n",
    "    <li>Sigmoid</li>\n",
    "</ol>"
   ]
  },
  {
   "cell_type": "markdown",
   "metadata": {},
   "source": [
    "<i>model = svm.SVC(kernel=\"poly\", degree=\"3\")</i>"
   ]
  },
  {
   "cell_type": "code",
   "execution_count": 25,
   "metadata": {},
   "outputs": [
    {
     "data": {
      "image/png": "[encoded data removed]",
      "text/plain": [
       "<matplotlib.figure.Figure at 0x7f469da92e10>"
      ]
     },
     "metadata": {},
     "output_type": "display_data"
    }
   ],
   "source": [
    "model = svm.SVC(kernel=\"poly\", degree=3)\n",
    "model.fit(X, y)\n",
    "\n",
    "h = .02  # step size in the mesh\n",
    "# create a mesh to plot in\n",
    "x_min, x_max = X[:, 0].min() - 1, X[:, 0].max() + 1\n",
    "y_min, y_max = X[:, 1].min() - 1, X[:, 1].max() + 1\n",
    "xx, yy = np.meshgrid(np.arange(x_min, x_max, h),\n",
    "                     np.arange(y_min, y_max, h))\n",
    "\n",
    "Z = model.predict(np.c_[xx.ravel(), yy.ravel()])\n",
    "Z = Z.reshape(xx.shape)\n",
    "plt.contour(xx, yy, Z, cmap=plt.cm.Paired)\n",
    "\n",
    "\n",
    "for i in range(len(X)):\n",
    "    plt.scatter(X[i,0], X[i,1], c='r' if y[i] == 1 else 'g', marker='+' if y[i] == 1 else 'o')"
   ]
  },
  {
   "cell_type": "markdown",
   "metadata": {
    "collapsed": true
   },
   "source": [
    "<i>model = svm.SVC(kernel=\"rbf\", gamma=0.01)</i>"
   ]
  },
  {
   "cell_type": "code",
   "execution_count": 26,
   "metadata": {},
   "outputs": [
    {
     "data": {
      "image/png": "[encoded data removed]",
      "text/plain": [
       "<matplotlib.figure.Figure at 0x7f4698de9510>"
      ]
     },
     "metadata": {},
     "output_type": "display_data"
    }
   ],
   "source": [
    "model = svm.SVC(kernel=\"rbf\")\n",
    "model.fit(X, y)\n",
    "\n",
    "h = .02  # step size in the mesh\n",
    "# create a mesh to plot in\n",
    "x_min, x_max = X[:, 0].min() - 1, X[:, 0].max() + 1\n",
    "y_min, y_max = X[:, 1].min() - 1, X[:, 1].max() + 1\n",
    "xx, yy = np.meshgrid(np.arange(x_min, x_max, h),\n",
    "                     np.arange(y_min, y_max, h))\n",
    "\n",
    "Z = model.predict(np.c_[xx.ravel(), yy.ravel()])\n",
    "Z = Z.reshape(xx.shape)\n",
    "plt.contour(xx, yy, Z, cmap=plt.cm.Paired)\n",
    "\n",
    "for i in range(len(X)):\n",
    "    plt.scatter(X[i,0], X[i,1], c='b' if y[i] == 1 else 'g', marker='+' if y[i] == 1 else 'o')\n"
   ]
  },
  {
   "cell_type": "markdown",
   "metadata": {
    "collapsed": true
   },
   "source": [
    "<i>model = svm.SVC(kernel=\"sigmoid\", gamma=0.01, coef0=1)</i>"
   ]
  },
  {
   "cell_type": "code",
   "execution_count": 27,
   "metadata": {},
   "outputs": [
    {
     "data": {
      "image/png": "[encoded data removed]",
      "text/plain": [
       "<matplotlib.figure.Figure at 0x7f469dc5a090>"
      ]
     },
     "metadata": {},
     "output_type": "display_data"
    }
   ],
   "source": [
    "model = svm.SVC(kernel=\"sigmoid\", gamma=0.01, coef0=1)\n",
    "model.fit(X, y)\n",
    "\n",
    "h = .02  # step size in the mesh\n",
    "# create a mesh to plot in\n",
    "x_min, x_max = X[:, 0].min() - 1, X[:, 0].max() + 1\n",
    "y_min, y_max = X[:, 1].min() - 1, X[:, 1].max() + 1\n",
    "xx, yy = np.meshgrid(np.arange(x_min, x_max, h),\n",
    "                     np.arange(y_min, y_max, h))\n",
    "\n",
    "Z = model.predict(np.c_[xx.ravel(), yy.ravel()])\n",
    "Z = Z.reshape(xx.shape)\n",
    "plt.contour(xx, yy, Z, cmap=plt.cm.Paired)\n",
    "\n",
    "for i in range(len(X)):\n",
    "    plt.scatter(X[i,0], X[i,1], c='b' if y[i] == 1 else 'g', marker='+' if y[i] == 1 else 'o')\n",
    "    "
   ]
  },
  {
   "cell_type": "markdown",
   "metadata": {},
   "source": [
    "### Example: Non-linearly Separable Dataset"
   ]
  },
  {
   "cell_type": "code",
   "execution_count": 18,
   "metadata": {
    "scrolled": true
   },
   "outputs": [
    {
     "data": {
      "text/html": [
       "<div>\n",
       "<style>\n",
       "    .dataframe thead tr:only-child th {\n",
       "        text-align: right;\n",
       "    }\n",
       "\n",
       "    .dataframe thead th {\n",
       "        text-align: left;\n",
       "    }\n",
       "\n",
       "    .dataframe tbody tr th {\n",
       "        vertical-align: top;\n",
       "    }\n",
       "</style>\n",
       "<table border=\"1\" class=\"dataframe\">\n",
       "  <thead>\n",
       "    <tr style=\"text-align: right;\">\n",
       "      <th></th>\n",
       "      <th>x1</th>\n",
       "      <th>x2</th>\n",
       "      <th>y</th>\n",
       "    </tr>\n",
       "  </thead>\n",
       "  <tbody>\n",
       "    <tr>\n",
       "      <th>0</th>\n",
       "      <td>7.0</td>\n",
       "      <td>20</td>\n",
       "      <td>-1</td>\n",
       "    </tr>\n",
       "    <tr>\n",
       "      <th>1</th>\n",
       "      <td>8.0</td>\n",
       "      <td>12</td>\n",
       "      <td>-1</td>\n",
       "    </tr>\n",
       "    <tr>\n",
       "      <th>2</th>\n",
       "      <td>9.0</td>\n",
       "      <td>19</td>\n",
       "      <td>-1</td>\n",
       "    </tr>\n",
       "    <tr>\n",
       "      <th>3</th>\n",
       "      <td>10.0</td>\n",
       "      <td>17</td>\n",
       "      <td>-1</td>\n",
       "    </tr>\n",
       "    <tr>\n",
       "      <th>4</th>\n",
       "      <td>11.0</td>\n",
       "      <td>15</td>\n",
       "      <td>-1</td>\n",
       "    </tr>\n",
       "    <tr>\n",
       "      <th>5</th>\n",
       "      <td>13.0</td>\n",
       "      <td>14</td>\n",
       "      <td>-1</td>\n",
       "    </tr>\n",
       "    <tr>\n",
       "      <th>6</th>\n",
       "      <td>14.0</td>\n",
       "      <td>12</td>\n",
       "      <td>-1</td>\n",
       "    </tr>\n",
       "    <tr>\n",
       "      <th>7</th>\n",
       "      <td>15.0</td>\n",
       "      <td>14</td>\n",
       "      <td>-1</td>\n",
       "    </tr>\n",
       "    <tr>\n",
       "      <th>8</th>\n",
       "      <td>15.0</td>\n",
       "      <td>17</td>\n",
       "      <td>-1</td>\n",
       "    </tr>\n",
       "    <tr>\n",
       "      <th>9</th>\n",
       "      <td>16.0</td>\n",
       "      <td>16</td>\n",
       "      <td>-1</td>\n",
       "    </tr>\n",
       "    <tr>\n",
       "      <th>10</th>\n",
       "      <td>4.0</td>\n",
       "      <td>15</td>\n",
       "      <td>1</td>\n",
       "    </tr>\n",
       "    <tr>\n",
       "      <th>11</th>\n",
       "      <td>5.5</td>\n",
       "      <td>12</td>\n",
       "      <td>1</td>\n",
       "    </tr>\n",
       "    <tr>\n",
       "      <th>12</th>\n",
       "      <td>7.0</td>\n",
       "      <td>10</td>\n",
       "      <td>1</td>\n",
       "    </tr>\n",
       "    <tr>\n",
       "      <th>13</th>\n",
       "      <td>8.0</td>\n",
       "      <td>10</td>\n",
       "      <td>1</td>\n",
       "    </tr>\n",
       "    <tr>\n",
       "      <th>14</th>\n",
       "      <td>9.0</td>\n",
       "      <td>9</td>\n",
       "      <td>1</td>\n",
       "    </tr>\n",
       "    <tr>\n",
       "      <th>15</th>\n",
       "      <td>10.0</td>\n",
       "      <td>8</td>\n",
       "      <td>1</td>\n",
       "    </tr>\n",
       "    <tr>\n",
       "      <th>16</th>\n",
       "      <td>11.0</td>\n",
       "      <td>5</td>\n",
       "      <td>1</td>\n",
       "    </tr>\n",
       "    <tr>\n",
       "      <th>17</th>\n",
       "      <td>12.0</td>\n",
       "      <td>7</td>\n",
       "      <td>1</td>\n",
       "    </tr>\n",
       "    <tr>\n",
       "      <th>18</th>\n",
       "      <td>12.0</td>\n",
       "      <td>9</td>\n",
       "      <td>1</td>\n",
       "    </tr>\n",
       "    <tr>\n",
       "      <th>19</th>\n",
       "      <td>13.0</td>\n",
       "      <td>10</td>\n",
       "      <td>1</td>\n",
       "    </tr>\n",
       "  </tbody>\n",
       "</table>\n",
       "</div>"
      ],
      "text/plain": [
       "      x1  x2  y\n",
       "0    7.0  20 -1\n",
       "1    8.0  12 -1\n",
       "2    9.0  19 -1\n",
       "3   10.0  17 -1\n",
       "4   11.0  15 -1\n",
       "5   13.0  14 -1\n",
       "6   14.0  12 -1\n",
       "7   15.0  14 -1\n",
       "8   15.0  17 -1\n",
       "9   16.0  16 -1\n",
       "10   4.0  15  1\n",
       "11   5.5  12  1\n",
       "12   7.0  10  1\n",
       "13   8.0  10  1\n",
       "14   9.0   9  1\n",
       "15  10.0   8  1\n",
       "16  11.0   5  1\n",
       "17  12.0   7  1\n",
       "18  12.0   9  1\n",
       "19  13.0  10  1"
      ]
     },
     "execution_count": 18,
     "metadata": {},
     "output_type": "execute_result"
    }
   ],
   "source": [
    "import pandas as pd\n",
    "\n",
    "filedata = 'SVM_Dataset2.csv'\n",
    "data2 = pd.read_csv(filedata)\n",
    "data2"
   ]
  },
  {
   "cell_type": "code",
   "execution_count": 20,
   "metadata": {},
   "outputs": [
    {
     "data": {
      "image/png": "[encoded data removed]",
      "text/plain": [
       "<matplotlib.figure.Figure at 0x7f9dbc552550>"
      ]
     },
     "metadata": {},
     "output_type": "display_data"
    }
   ],
   "source": [
    "X1 = data2['x1']\n",
    "X2 = data2['x2']\n",
    "X_training = np.array(list(zip(X1,X2)))\n",
    "y_training = data2['y']\n",
    "\n",
    "idxPlus=y_training[y_training<0].index\n",
    "idxMin=y_training[y_training>0].index\n",
    "plt.scatter(X_training[idxPlus,0],X_training[idxPlus,1],c='b',s=50)\n",
    "plt.scatter(X_training[idxMin,0],X_training[idxMin,1],c='r',s=50)\n",
    "plt.xlabel('X1')\n",
    "plt.ylabel('X2');\n",
    "plt.savefig('nl-chart0.png')"
   ]
  },
  {
   "cell_type": "markdown",
   "metadata": {},
   "source": [
    "<b>Challenge</b>: What's the best SVM kernel and parameters to use for this dataset?"
   ]
  },
  {
   "cell_type": "code",
   "execution_count": 34,
   "metadata": {},
   "outputs": [
    {
     "data": {
      "text/plain": [
       "1.0"
      ]
     },
     "execution_count": 34,
     "metadata": {},
     "output_type": "execute_result"
    },
    {
     "data": {
      "image/png": "[encoded data removed]",
      "text/plain": [
       "<matplotlib.figure.Figure at 0x7f9db3687dd0>"
      ]
     },
     "metadata": {},
     "output_type": "display_data"
    }
   ],
   "source": [
    "import math\n",
    "\n",
    "#model = svm.SVC(kernel='linear',C=100).fit(X_training,y_training)\n",
    "model = svm.SVC(kernel='poly',C=1, degree=2, probability=True).fit(X_training,y_training)\n",
    "#model = svm.SVC(kernel='rbf',C=1, gamma=3).fit(X_training,y_training)\n",
    "\n",
    "idxPlus=y_training[y_training<0].index\n",
    "idxMin=y_training[y_training>0].index\n",
    "\n",
    "lbX1=math.floor(min(X_training[:,0]))-1\n",
    "ubX1=math.ceil(max(X_training[:,0]))+1\n",
    "lbX2=math.floor(min(X_training[:,1]))-1\n",
    "ubX2=math.ceil(max(X_training[:,1]))+1\n",
    "X,Y = np.mgrid[lbX1:ubX1:100j,lbX2:ubX2:100j]\n",
    "Z = model.decision_function(np.c_[X.ravel(),Y.ravel()])\n",
    "Z = Z.reshape(X.shape)\n",
    "plt.contourf(X,Y,Z > 0,alpha=0.4)\n",
    "\n",
    "plt.contour(X,Y,Z,colors=['k','k','k'], linestyles=['--','-','--'],levels=[-1,0,1])\n",
    "plt.scatter(model.support_vectors_[:,0],model.support_vectors_[:,1],s=120,facecolors='none')\n",
    "\n",
    "plt.scatter(X_training[:,0],X_training[:,1],c=y_training,s=50,alpha=0.95);\n",
    "plt.scatter(X_training[idxPlus,0],X_training[idxPlus,1],c='b',s=50)\n",
    "plt.scatter(X_training[idxMin,0],X_training[idxMin,1],c='r',s=50)\n",
    "\n",
    "plt.title('Polynomial Kernel')\n",
    "plt.savefig('nl-poly2-kernel.png')\n",
    "\n",
    "model.score(X_training,y_training)"
   ]
  },
  {
   "cell_type": "markdown",
   "metadata": {},
   "source": [
    "### Handwritten Digits Recognition (Revisited)"
   ]
  },
  {
   "cell_type": "code",
   "execution_count": 34,
   "metadata": {},
   "outputs": [
    {
     "data": {
      "text/plain": [
       "array([[70,  0,  1,  0,  0,  0,  0,  0,  0,  0],\n",
       "       [ 0, 70,  0,  0,  0,  0,  1,  0,  0,  0],\n",
       "       [ 0,  1, 69,  0,  0,  0,  0,  0,  0,  0],\n",
       "       [ 0,  0,  1, 62,  0,  0,  0,  0,  0,  1],\n",
       "       [ 1,  0,  0,  0, 71,  0,  0,  0,  0,  0],\n",
       "       [ 0,  0,  0,  3,  0, 70,  0,  0,  0,  1],\n",
       "       [ 0,  0,  0,  0,  0,  1, 73,  0,  0,  0],\n",
       "       [ 0,  0,  0,  4,  0,  0,  0, 72,  0,  0],\n",
       "       [ 0,  1,  0,  5,  0,  0,  0,  0, 68,  0],\n",
       "       [ 0,  1,  0,  0,  3,  0,  0,  0,  0, 69]])"
      ]
     },
     "execution_count": 34,
     "metadata": {},
     "output_type": "execute_result"
    },
    {
     "data": {
      "image/png": "[encoded data removed]",
      "text/plain": [
       "<matplotlib.figure.Figure at 0x7f46997123d0>"
      ]
     },
     "metadata": {},
     "output_type": "display_data"
    }
   ],
   "source": [
    "%matplotlib inline\n",
    "from matplotlib import pyplot as plt\n",
    "from sklearn import datasets, metrics\n",
    "\n",
    "digits = datasets.load_digits()\n",
    "images_and_labels = list(zip(digits.images, digits.target))\n",
    "\n",
    "for index, (image, label) in enumerate(images_and_labels[:4]):\n",
    "    plt.subplot(2, 4, index + 1)\n",
    "    plt.axis('off')\n",
    "    plt.imshow(image, cmap=plt.cm.gray_r, interpolation='nearest')\n",
    "    plt.title('Training: %i' % label)\n",
    "\n",
    "n_samples = len(digits.images)\n",
    "data = digits.images.reshape((n_samples, -1))\n",
    "\n",
    "n = len(data)\n",
    "num_train = int(0.60*n)\n",
    "X = data[:num_train, :]\n",
    "y = digits.target[:num_train]\n",
    "X_test = data[num_train:, :]\n",
    "y_test = digits.target[num_train:]\n",
    "\n",
    "model = svm.SVC(gamma=0.001)\n",
    "\n",
    "model.fit(X, y)\n",
    "pred = model.predict(X_test)\n",
    "metrics.confusion_matrix(pred, y_test)"
   ]
  },
  {
   "cell_type": "markdown",
   "metadata": {},
   "source": [
    "### Programming Exercises"
   ]
  },
  {
   "cell_type": "markdown",
   "metadata": {},
   "source": [
    "All of the exercises below use SVM on audio data. However, to make things easier for everyone, the audio files wer already processed and the important features were extracted. The features used in the examples are composed of mel frequency ceptral coefficients, pitch, and energy. <i>sklearn</i> does not contain functions to extract these features but you may use other libraries like <i>librosa</i> (https://librosa.github.io/librosa/index.html)."
   ]
  },
  {
   "cell_type": "markdown",
   "metadata": {},
   "source": [
    "#### Phoneme recognition 1\n",
    "\n",
    "Dataset: phoneme.csv\n",
    "\n",
    "The aim is to distinguish between nasal (class 1) and oral sounds (class 2). The class distribution is 3,818 samples in class 1 and 1,586 samples in class 2. The phonemes are transcribed as follows: sh as in she, dcl as in dark, iy as the vowel in she, aa as the vowel in dark, and ao as the first vowel in water.\n",
    "\n",
    "The table below shows the first 15 instances in the dataset.\n",
    "<table>\n",
    "<tr><th>sh</th><th>dcl</th><th>iy</th><th>aa</th><th>ao</th><th>CLASS</th></tr>\n",
    "<tr><td>0.489927</td><td>-0.451528</td><td>-1.04799</td><td>-0.598693</td><td>-0.020418</td><td>1</td></tr>\n",
    "<tr><td>-0.641265</td><td>0.109245</td><td>0.29213</td><td>-0.916804</td><td>0.240223</td><td>1</td></tr>\n",
    "<tr><td>0.870593</td><td>-0.459862</td><td>0.578159</td><td>0.806634</td><td>0.835248</td><td>1</td></tr>\n",
    "<tr><td>-0.628439</td><td>-0.316284</td><td>1.934295</td><td>-1.427099</td><td>-0.136583</td><td>1</td></tr>\n",
    "<tr><td>-0.596399</td><td>0.015938</td><td>2.043206</td><td>-1.688448</td><td>-0.948127</td><td>1</td></tr>\n",
    "<tr><td>0.164735</td><td>-0.642728</td><td>-0.980619</td><td>-0.386415</td><td>-0.242046</td><td>1</td></tr>\n",
    "<tr><td>2.470804</td><td>-0.707277</td><td>0.787143</td><td>-0.916224</td><td>-0.350777</td><td>1</td></tr>\n",
    "<tr><td>-0.487177</td><td>-0.117226</td><td>1.404477</td><td>-1.366362</td><td>-0.671747</td><td>1</td></tr>\n",
    "<tr><td>-0.68704</td><td>0.574784</td><td>-0.141653</td><td>-0.175181</td><td>-0.136583</td><td>1</td></tr>\n",
    "<tr><td>-0.600961</td><td>-0.764064</td><td>-0.31402</td><td>1.291147</td><td>-1.545644</td><td>2</td></tr>\n",
    "<tr><td>-0.583256</td><td>-0.526313</td><td>0.057808</td><td>0.530062</td><td>1.357693</td><td>2</td></tr>\n",
    "<tr><td>-0.19083</td><td>-0.240767</td><td>0.655799</td><td>-1.409384</td><td>2.938723</td><td>2</td></tr>\n",
    "<tr><td>-0.83164</td><td>-0.802773</td><td>-0.456364</td><td>0.541923</td><td>-0.136583</td><td>2</td></tr>\n",
    "<tr><td>-0.3237</td><td>1.041403</td><td>-1.433166</td><td>-0.786542</td><td>-0.38078</td><td>2</td></tr>\n",
    "<tr><td>0.6815</td><td>0.320053</td><td>-0.311883</td><td>1.508866</td><td>-0.873693</td><td>1</td></tr>\n",
    "</table>\n",
    "\n",
    "Using SVM on this dataset can easily yield ~80% accuracy. The challenge is to try to increase this accuracy even further by playing with different kernels and parameter values."
   ]
  },
  {
   "cell_type": "code",
   "execution_count": 16,
   "metadata": {},
   "outputs": [
    {
     "data": {
      "text/plain": [
       "0.83765032377428306"
      ]
     },
     "execution_count": 16,
     "metadata": {},
     "output_type": "execute_result"
    }
   ],
   "source": [
    "import numpy as np\n",
    "from sklearn import svm\n",
    "import math\n",
    "\n",
    "data = np.loadtxt(\"phoneme.csv\", delimiter=\",\")\n",
    "\n",
    "model = svm.SVC()\n",
    "\n",
    "np.random.shuffle(data)\n",
    "\n",
    "n = len(data)\n",
    "n_train = int(0.60*n)\n",
    "n_test = n - n_train\n",
    "\n",
    "model.fit(data[:n_train,:-1], data[:n_train,-1])\n",
    "\n",
    "model.score(data[n_train:,:-1], data[n_train:, -1])"
   ]
  },
  {
   "cell_type": "markdown",
   "metadata": {},
   "source": [
    "### Phoneme Recognition 2\n",
    "\n",
    "\n",
    "Dataset: phoneme2.csv\n",
    "\n",
    "The aim is to identify the phonemes a,e,i,o,u from audio samples. The dataset contains MCC features of the audio samples and their corresponding phoneme labels.\n",
    "\n",
    "The table below shows the 15 instances from the dataset.\n",
    "<table>\n",
    "<tr><th>m0</th><th>m1</th><th>m2</th><th>m3</th><th>m4</th><th>m5</th><th>m6</th><th>m7</th><th>m8</th><th>m9</th><th>m10</th><th>m11</th><th>m12</th><th>m13</th><th>m14</th><th>SPEAKER</th><th>PHONEME</th><th>GENDER</th></tr>\n",
    "<tr><td>6.13E-01</td><td>2.97E-01</td><td>4.51E-01</td><td>3.37E-01</td><td>5.44E-01</td><td>4.69E-01</td><td>4.46E-01</td><td>4.48E-01</td><td>6.32E-01</td><td>7.72E-01</td><td>3.95E-01</td><td>6.05E-01</td><td>5.47E-01</td><td>6.49E-01</td><td>3.49E-01</td><td>0</td><td>a</td><td>F</td></tr>\n",
    "<tr><td>6.36E-01</td><td>2.87E-01</td><td>4.34E-01</td><td>3.45E-01</td><td>5.47E-01</td><td>4.60E-01</td><td>4.95E-01</td><td>3.93E-01</td><td>6.77E-01</td><td>7.41E-01</td><td>4.00E-01</td><td>6.03E-01</td><td>5.21E-01</td><td>6.84E-01</td><td>3.31E-01</td><td>0</td><td>a</td><td>F</td></tr>\n",
    "<tr><td>7.39E-01</td><td>3.05E-01</td><td>2.55E-01</td><td>2.01E-01</td><td>4.25E-01</td><td>7.23E-01</td><td>5.61E-01</td><td>4.32E-01</td><td>5.06E-01</td><td>6.93E-01</td><td>5.65E-01</td><td>5.49E-01</td><td>6.16E-01</td><td>5.67E-01</td><td>4.17E-01</td><td>3</td><td>e</td><td>F</td></tr>\n",
    "<tr><td>7.40E-01</td><td>3.08E-01</td><td>2.38E-01</td><td>2.01E-01</td><td>4.39E-01</td><td>7.08E-01</td><td>5.88E-01</td><td>4.14E-01</td><td>5.19E-01</td><td>6.83E-01</td><td>5.65E-01</td><td>5.55E-01</td><td>6.09E-01</td><td>5.80E-01</td><td>4.00E-01</td><td>3</td><td>e</td><td>F</td></tr>\n",
    "<tr><td>3.08E-01</td><td>6.29E-01</td><td>6.41E-01</td><td>6.54E-01</td><td>4.94E-01</td><td>5.26E-01</td><td>8.06E-01</td><td>6.50E-01</td><td>5.55E-01</td><td>4.96E-01</td><td>5.13E-01</td><td>4.50E-01</td><td>4.91E-01</td><td>4.98E-01</td><td>5.08E-01</td><td>10</td><td>i</td><td>M</td></tr>\n",
    "<tr><td>3.03E-01</td><td>6.36E-01</td><td>5.57E-01</td><td>6.25E-01</td><td>6.38E-01</td><td>5.55E-01</td><td>7.55E-01</td><td>5.71E-01</td><td>5.69E-01</td><td>6.74E-01</td><td>4.24E-01</td><td>5.24E-01</td><td>5.42E-01</td><td>4.02E-01</td><td>5.45E-01</td><td>10</td><td>i</td><td>M</td></tr>\n",
    "<tr><td>6.21E-01</td><td>7.77E-01</td><td>5.53E-01</td><td>4.21E-01</td><td>3.14E-01</td><td>6.40E-01</td><td>4.49E-01</td><td>4.08E-01</td><td>8.15E-01</td><td>5.99E-01</td><td>5.59E-01</td><td>6.57E-01</td><td>4.32E-01</td><td>4.52E-01</td><td>7.52E-01</td><td>5</td><td>o</td><td>F</td></tr>\n",
    "<tr><td>6.26E-01</td><td>6.90E-01</td><td>5.29E-01</td><td>4.32E-01</td><td>3.18E-01</td><td>6.13E-01</td><td>4.74E-01</td><td>5.98E-01</td><td>8.48E-01</td><td>5.51E-01</td><td>5.61E-01</td><td>5.89E-01</td><td>3.62E-01</td><td>4.34E-01</td><td>6.07E-01</td><td>5</td><td>o</td><td>F</td></tr>\n",
    "<tr><td>6.07E-01</td><td>8.76E-01</td><td>5.16E-01</td><td>5.10E-01</td><td>3.46E-01</td><td>4.15E-01</td><td>6.11E-01</td><td>5.64E-01</td><td>7.40E-01</td><td>5.09E-01</td><td>7.08E-01</td><td>6.54E-01</td><td>3.89E-01</td><td>8.21E-01</td><td>5.70E-01</td><td>13</td><td>u</td><td>M</td></tr>\n",
    "<tr><td>6.19E-01</td><td>8.45E-01</td><td>5.29E-01</td><td>5.02E-01</td><td>3.38E-01</td><td>4.03E-01</td><td>6.33E-01</td><td>5.29E-01</td><td>8.20E-01</td><td>4.87E-01</td><td>6.74E-01</td><td>6.29E-01</td><td>4.57E-01</td><td>8.56E-01</td><td>5.78E-01</td><td>13</td><td>u</td><td>M</td></tr>\n",
    "</table>"
   ]
  },
  {
   "cell_type": "markdown",
   "metadata": {},
   "source": [
    "### Emotion recognition on audio samples\n",
    "\n",
    "Dataset: emotions.csv\n",
    "\n",
    "Given a characterization of audio samples: pitchMin, pitchMax, pitchAve, energy, duration, f0, f1, f2, classify the emotion felt by the speaker.\n",
    "\n",
    "The table below shows a few samples.\n",
    "\n",
    "<table>\n",
    "    <tr><th>sampleNumber</th><th>pitchMin</th><th>pitchMax</th><th>pitchAve</th><th>energy</th><th>duration</th><th>f0</th><th>f1</th><th>f2</th><th>emotion</th></tr>\n",
    "    <tr><td>1</td><td>173.2129954526</td><td>445.0693068434</td><td>259.7484039392</td><td>0.0354142038</td><td>1.8254375</td><td>1879.3179770094</td><td>4268.1436118105</td><td>--undefined--</td><td>Happy</td></tr>\n",
    "    <tr><td>2</td><td>119.3535214404</td><td>238.9144046964</td><td>183.5431824173</td><td>0.0435172956</td><td>1.7385</td><td>900.280890183</td><td>2731.5016741871</td><td>4608.5523063933</td><td>Happy</td></tr>\n",
    "    <tr><td>3751</td><td>94.5517527654</td><td>362.0390172512</td><td>139.3833103682</td><td>0.0003857044</td><td>1.8929375</td><td>401.5473840414</td><td>2676.0449248016</td><td>--undefined--</td><td>Sad</td></tr>\n",
    "    <tr><td>3752</td><td>108.3665294552</td><td>541.8323798117</td><td>146.7745817739</td><td>0.0008366382</td><td>2.0369375</td><td>841.8974856937</td><td>2540.3025705734</td><td>4413.6250549592</td><td>Sad</td></tr>\n",
    "    <tr><td>4052</td><td>165.9459219893</td><td>383.8799575127</td><td>296.6862888045</td><td>0.0385013221</td><td>1.66375</td><td>1444.3488696384</td><td>3569.1728456427</td><td>--undefined--</td><td>Angry</td></tr>\n",
    "    <tr><td>4053</td><td>99.7954873874</td><td>285.3957178828</td><td>195.7543019107</td><td>0.033175081</td><td>2.1891875</td><td>3370.6170111732</td><td>5375.73288815</td><td>--undefined--</td><td>Angry</td></tr>\n",
    "</table>\n",
    "\n",
    "\n",
    "\n",
    "\n",
    "\n"
   ]
  }
 ],
 "metadata": {
  "kernelspec": {
   "display_name": "Python 3",
   "language": "python",
   "name": "python3"
  },
  "language_info": {
   "codemirror_mode": {
    "name": "ipython",
    "version": 3
   },
   "file_extension": ".py",
   "mimetype": "text/x-python",
   "name": "python",
   "nbconvert_exporter": "python",
   "pygments_lexer": "ipython3",
   "version": "3.6.0"
  }
 },
 "nbformat": 4,
 "nbformat_minor": 1
}
